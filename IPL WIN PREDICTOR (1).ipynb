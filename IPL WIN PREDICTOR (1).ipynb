{
 "cells": [
  {
   "cell_type": "code",
   "execution_count": 104,
   "id": "95711a2a-5993-44a7-8725-929f1377500a",
   "metadata": {},
   "outputs": [],
   "source": [
    "import pandas as pd\n",
    "import numpy as np\n",
    "import matplotlib.pyplot as plt\n",
    "\n",
    "import warnings\n",
    "warnings.filterwarnings('ignore')\n",
    "\n",
    "#to display all rows columns \n",
    "pd.set_option('display.max_rows', None)\n",
    "pd.set_option('display.max_columns', None)  \n",
    "pd.set_option('display.expand_frame_repr', False)\n",
    "pd.set_option('max_colwidth', -1)"
   ]
  },
  {
   "cell_type": "code",
   "execution_count": 105,
   "id": "df44cb50-46aa-449c-8772-648bf0079d2d",
   "metadata": {},
   "outputs": [
    {
     "data": {
      "text/html": [
       "<div>\n",
       "<style scoped>\n",
       "    .dataframe tbody tr th:only-of-type {\n",
       "        vertical-align: middle;\n",
       "    }\n",
       "\n",
       "    .dataframe tbody tr th {\n",
       "        vertical-align: top;\n",
       "    }\n",
       "\n",
       "    .dataframe thead th {\n",
       "        text-align: right;\n",
       "    }\n",
       "</style>\n",
       "<table border=\"1\" class=\"dataframe\">\n",
       "  <thead>\n",
       "    <tr style=\"text-align: right;\">\n",
       "      <th></th>\n",
       "      <th>match_id</th>\n",
       "      <th>season</th>\n",
       "      <th>start_date</th>\n",
       "      <th>venue</th>\n",
       "      <th>innings</th>\n",
       "      <th>ball</th>\n",
       "      <th>batting_team</th>\n",
       "      <th>bowling_team</th>\n",
       "      <th>striker</th>\n",
       "      <th>non_striker</th>\n",
       "      <th>bowler</th>\n",
       "      <th>runs_off_bat</th>\n",
       "      <th>extras</th>\n",
       "      <th>wides</th>\n",
       "      <th>noballs</th>\n",
       "      <th>byes</th>\n",
       "      <th>legbyes</th>\n",
       "      <th>penalty</th>\n",
       "      <th>wicket_type</th>\n",
       "      <th>player_dismissed</th>\n",
       "      <th>other_wicket_type</th>\n",
       "      <th>other_player_dismissed</th>\n",
       "    </tr>\n",
       "  </thead>\n",
       "  <tbody>\n",
       "    <tr>\n",
       "      <th>0</th>\n",
       "      <td>335982</td>\n",
       "      <td>2008</td>\n",
       "      <td>2008-04-18</td>\n",
       "      <td>M Chinnaswamy Stadium</td>\n",
       "      <td>2</td>\n",
       "      <td>6.8</td>\n",
       "      <td>Royal Challengers Bangalore</td>\n",
       "      <td>Kolkata Knight Riders</td>\n",
       "      <td>MV Boucher</td>\n",
       "      <td>CL White</td>\n",
       "      <td>AB Agarkar</td>\n",
       "      <td>4</td>\n",
       "      <td>0</td>\n",
       "      <td>NaN</td>\n",
       "      <td>NaN</td>\n",
       "      <td>NaN</td>\n",
       "      <td>NaN</td>\n",
       "      <td>NaN</td>\n",
       "      <td>NaN</td>\n",
       "      <td>NaN</td>\n",
       "      <td>NaN</td>\n",
       "      <td>NaN</td>\n",
       "    </tr>\n",
       "    <tr>\n",
       "      <th>1</th>\n",
       "      <td>335982</td>\n",
       "      <td>2008</td>\n",
       "      <td>2008-04-18</td>\n",
       "      <td>M Chinnaswamy Stadium</td>\n",
       "      <td>2</td>\n",
       "      <td>2.7</td>\n",
       "      <td>Royal Challengers Bangalore</td>\n",
       "      <td>Kolkata Knight Riders</td>\n",
       "      <td>W Jaffer</td>\n",
       "      <td>JH Kallis</td>\n",
       "      <td>AB Dinda</td>\n",
       "      <td>1</td>\n",
       "      <td>0</td>\n",
       "      <td>NaN</td>\n",
       "      <td>NaN</td>\n",
       "      <td>NaN</td>\n",
       "      <td>NaN</td>\n",
       "      <td>NaN</td>\n",
       "      <td>NaN</td>\n",
       "      <td>NaN</td>\n",
       "      <td>NaN</td>\n",
       "      <td>NaN</td>\n",
       "    </tr>\n",
       "    <tr>\n",
       "      <th>2</th>\n",
       "      <td>335982</td>\n",
       "      <td>2008</td>\n",
       "      <td>2008-04-18</td>\n",
       "      <td>M Chinnaswamy Stadium</td>\n",
       "      <td>2</td>\n",
       "      <td>3.1</td>\n",
       "      <td>Royal Challengers Bangalore</td>\n",
       "      <td>Kolkata Knight Riders</td>\n",
       "      <td>W Jaffer</td>\n",
       "      <td>JH Kallis</td>\n",
       "      <td>I Sharma</td>\n",
       "      <td>2</td>\n",
       "      <td>0</td>\n",
       "      <td>NaN</td>\n",
       "      <td>NaN</td>\n",
       "      <td>NaN</td>\n",
       "      <td>NaN</td>\n",
       "      <td>NaN</td>\n",
       "      <td>NaN</td>\n",
       "      <td>NaN</td>\n",
       "      <td>NaN</td>\n",
       "      <td>NaN</td>\n",
       "    </tr>\n",
       "    <tr>\n",
       "      <th>3</th>\n",
       "      <td>335982</td>\n",
       "      <td>2008</td>\n",
       "      <td>2008-04-18</td>\n",
       "      <td>M Chinnaswamy Stadium</td>\n",
       "      <td>2</td>\n",
       "      <td>3.2</td>\n",
       "      <td>Royal Challengers Bangalore</td>\n",
       "      <td>Kolkata Knight Riders</td>\n",
       "      <td>W Jaffer</td>\n",
       "      <td>JH Kallis</td>\n",
       "      <td>I Sharma</td>\n",
       "      <td>1</td>\n",
       "      <td>0</td>\n",
       "      <td>NaN</td>\n",
       "      <td>NaN</td>\n",
       "      <td>NaN</td>\n",
       "      <td>NaN</td>\n",
       "      <td>NaN</td>\n",
       "      <td>NaN</td>\n",
       "      <td>NaN</td>\n",
       "      <td>NaN</td>\n",
       "      <td>NaN</td>\n",
       "    </tr>\n",
       "    <tr>\n",
       "      <th>4</th>\n",
       "      <td>335982</td>\n",
       "      <td>2008</td>\n",
       "      <td>2008-04-18</td>\n",
       "      <td>M Chinnaswamy Stadium</td>\n",
       "      <td>2</td>\n",
       "      <td>3.3</td>\n",
       "      <td>Royal Challengers Bangalore</td>\n",
       "      <td>Kolkata Knight Riders</td>\n",
       "      <td>JH Kallis</td>\n",
       "      <td>W Jaffer</td>\n",
       "      <td>I Sharma</td>\n",
       "      <td>0</td>\n",
       "      <td>0</td>\n",
       "      <td>NaN</td>\n",
       "      <td>NaN</td>\n",
       "      <td>NaN</td>\n",
       "      <td>NaN</td>\n",
       "      <td>NaN</td>\n",
       "      <td>NaN</td>\n",
       "      <td>NaN</td>\n",
       "      <td>NaN</td>\n",
       "      <td>NaN</td>\n",
       "    </tr>\n",
       "  </tbody>\n",
       "</table>\n",
       "</div>"
      ],
      "text/plain": [
       "   match_id  season  start_date                  venue  innings  ball                 batting_team           bowling_team     striker non_striker      bowler  runs_off_bat  extras  wides  noballs  byes  legbyes  penalty wicket_type player_dismissed  other_wicket_type  other_player_dismissed\n",
       "0  335982    2008    2008-04-18  M Chinnaswamy Stadium  2        6.8   Royal Challengers Bangalore  Kolkata Knight Riders  MV Boucher  CL White    AB Agarkar  4             0      NaN    NaN      NaN   NaN      NaN       NaN         NaN             NaN                NaN                    \n",
       "1  335982    2008    2008-04-18  M Chinnaswamy Stadium  2        2.7   Royal Challengers Bangalore  Kolkata Knight Riders  W Jaffer    JH Kallis   AB Dinda    1             0      NaN    NaN      NaN   NaN      NaN       NaN         NaN             NaN                NaN                    \n",
       "2  335982    2008    2008-04-18  M Chinnaswamy Stadium  2        3.1   Royal Challengers Bangalore  Kolkata Knight Riders  W Jaffer    JH Kallis   I Sharma    2             0      NaN    NaN      NaN   NaN      NaN       NaN         NaN             NaN                NaN                    \n",
       "3  335982    2008    2008-04-18  M Chinnaswamy Stadium  2        3.2   Royal Challengers Bangalore  Kolkata Knight Riders  W Jaffer    JH Kallis   I Sharma    1             0      NaN    NaN      NaN   NaN      NaN       NaN         NaN             NaN                NaN                    \n",
       "4  335982    2008    2008-04-18  M Chinnaswamy Stadium  2        3.3   Royal Challengers Bangalore  Kolkata Knight Riders  JH Kallis   W Jaffer    I Sharma    0             0      NaN    NaN      NaN   NaN      NaN       NaN         NaN             NaN                NaN                    "
      ]
     },
     "execution_count": 105,
     "metadata": {},
     "output_type": "execute_result"
    }
   ],
   "source": [
    "ipl_df = pd.read_csv(r'C:\\Users\\ADMIN\\Desktop\\IPL_ball_by_ball_updated (1).csv')\n",
    "ipl_df.head()"
   ]
  },
  {
   "cell_type": "code",
   "execution_count": 106,
   "id": "b3102140-4963-4c6c-9883-ff183918507b",
   "metadata": {},
   "outputs": [
    {
     "data": {
      "text/plain": [
       "Index(['match_id', 'season', 'start_date', 'venue', 'innings', 'ball',\n",
       "       'batting_team', 'bowling_team', 'striker', 'non_striker', 'bowler',\n",
       "       'runs_off_bat', 'extras', 'wides', 'noballs', 'byes', 'legbyes',\n",
       "       'penalty', 'wicket_type', 'player_dismissed', 'other_wicket_type',\n",
       "       'other_player_dismissed'],\n",
       "      dtype='object')"
      ]
     },
     "execution_count": 106,
     "metadata": {},
     "output_type": "execute_result"
    }
   ],
   "source": [
    "ipl_df.columns"
   ]
  },
  {
   "cell_type": "code",
   "execution_count": 107,
   "id": "5df06dea-f9f2-49ef-bb86-7cf4b8476e8d",
   "metadata": {},
   "outputs": [],
   "source": [
    "ipl_df = ipl_df[(ipl_df.innings == 1) | (ipl_df.innings == 2)]"
   ]
  },
  {
   "cell_type": "code",
   "execution_count": 108,
   "id": "36ed078a-e04c-403d-a3d3-db67dd06b40b",
   "metadata": {},
   "outputs": [
    {
     "data": {
      "text/plain": [
       "array(['Royal Challengers Bangalore', 'Kolkata Knight Riders',\n",
       "       'Rajasthan Royals', 'Delhi Daredevils', 'Kings XI Punjab',\n",
       "       'Chennai Super Kings', 'Deccan Chargers', 'Mumbai Indians',\n",
       "       'Kochi Tuskers Kerala', 'Pune Warriors', 'Sunrisers Hyderabad',\n",
       "       'Rising Pune Supergiants', 'Gujarat Lions',\n",
       "       'Rising Pune Supergiant', 'Delhi Capitals', 'Punjab Kings',\n",
       "       'Gujarat Titans', 'Lucknow Super Giants'], dtype=object)"
      ]
     },
     "execution_count": 108,
     "metadata": {},
     "output_type": "execute_result"
    }
   ],
   "source": [
    "ipl_df['total_runs'] = ipl_df.apply(lambda x: x['runs_off_bat'] + x['extras'], axis = 1)\n",
    "ipl_df['isOut'] = ipl_df['player_dismissed'].apply(lambda x: 1 if type(x) == type('str') else 0)\n",
    "ipl_df.batting_team.unique()"
   ]
  },
  {
   "cell_type": "code",
   "execution_count": 109,
   "id": "407fccd5-0ecb-43fc-8abd-8b7832201da9",
   "metadata": {},
   "outputs": [
    {
     "data": {
      "text/plain": [
       "1    10900\n",
       "0    9331 \n",
       "4    2983 \n",
       "2    1764 \n",
       "6    1365 \n",
       "3    91   \n",
       "5    47   \n",
       "7    13   \n",
       "Name: total_runs, dtype: int64"
      ]
     },
     "execution_count": 109,
     "metadata": {},
     "output_type": "execute_result"
    }
   ],
   "source": [
    "ipl_df[ipl_df.batting_team == 'Royal Challengers Bangalore'].total_runs.value_counts()"
   ]
  },
  {
   "cell_type": "code",
   "execution_count": 110,
   "id": "2b2f6d0e-c3c8-4337-9212-b9a749c51717",
   "metadata": {},
   "outputs": [
    {
     "data": {
      "text/plain": [
       "1    10756\n",
       "0    9373 \n",
       "4    3066 \n",
       "2    1595 \n",
       "6    1222 \n",
       "3    87   \n",
       "5    64   \n",
       "7    6    \n",
       "Name: total_runs, dtype: int64"
      ]
     },
     "execution_count": 110,
     "metadata": {},
     "output_type": "execute_result"
    }
   ],
   "source": [
    "ipl_df[ipl_df.batting_team == 'Kolkata Knight Riders'].total_runs.value_counts()"
   ]
  },
  {
   "cell_type": "raw",
   "id": "fb4c5d94-2f9d-4346-94be-82c0696068a8",
   "metadata": {},
   "source": [
    "CHOOSE TEAMS"
   ]
  },
  {
   "cell_type": "code",
   "execution_count": 111,
   "id": "940ec9fd-6eaa-411a-a931-2b3c33e7bc3a",
   "metadata": {},
   "outputs": [],
   "source": [
    "t1 = 'Mumbai Indians'\n",
    "t2 = 'Chennai Super Kings'"
   ]
  },
  {
   "cell_type": "code",
   "execution_count": 112,
   "id": "60f2b9f6-fbd7-40b8-9ffd-423aff311384",
   "metadata": {},
   "outputs": [
    {
     "data": {
      "text/plain": [
       "array([ 392181,  392227,  501221,  598002,  598046,  598073,  729303,\n",
       "        733995,  734045,  829729,  829817,  829823, 1136561, 1175370,\n",
       "       1178419, 1181768, 1216492, 1304079], dtype=int64)"
      ]
     },
     "execution_count": 112,
     "metadata": {},
     "output_type": "execute_result"
    }
   ],
   "source": [
    "ipl_df[(ipl_df.batting_team == t1) & (ipl_df.bowling_team == t2) & (ipl_df.innings == 1)].match_id.unique()"
   ]
  },
  {
   "cell_type": "code",
   "execution_count": 113,
   "id": "5381ef4f-712e-4094-9bec-7e396b4ffaea",
   "metadata": {},
   "outputs": [
    {
     "data": {
      "text/html": [
       "<div>\n",
       "<style scoped>\n",
       "    .dataframe tbody tr th:only-of-type {\n",
       "        vertical-align: middle;\n",
       "    }\n",
       "\n",
       "    .dataframe tbody tr th {\n",
       "        vertical-align: top;\n",
       "    }\n",
       "\n",
       "    .dataframe thead th {\n",
       "        text-align: right;\n",
       "    }\n",
       "</style>\n",
       "<table border=\"1\" class=\"dataframe\">\n",
       "  <thead>\n",
       "    <tr style=\"text-align: right;\">\n",
       "      <th></th>\n",
       "      <th>match_id</th>\n",
       "      <th>season</th>\n",
       "      <th>start_date</th>\n",
       "      <th>venue</th>\n",
       "      <th>innings</th>\n",
       "      <th>ball</th>\n",
       "      <th>batting_team</th>\n",
       "      <th>bowling_team</th>\n",
       "      <th>striker</th>\n",
       "      <th>non_striker</th>\n",
       "      <th>bowler</th>\n",
       "      <th>runs_off_bat</th>\n",
       "      <th>extras</th>\n",
       "      <th>wides</th>\n",
       "      <th>noballs</th>\n",
       "      <th>byes</th>\n",
       "      <th>legbyes</th>\n",
       "      <th>penalty</th>\n",
       "      <th>wicket_type</th>\n",
       "      <th>player_dismissed</th>\n",
       "      <th>other_wicket_type</th>\n",
       "      <th>other_player_dismissed</th>\n",
       "      <th>total_runs</th>\n",
       "      <th>isOut</th>\n",
       "    </tr>\n",
       "  </thead>\n",
       "  <tbody>\n",
       "    <tr>\n",
       "      <th>199921</th>\n",
       "      <td>1254084</td>\n",
       "      <td>2021</td>\n",
       "      <td>2021-05-01</td>\n",
       "      <td>Arun Jaitley Stadium, Delhi</td>\n",
       "      <td>2</td>\n",
       "      <td>5.5</td>\n",
       "      <td>Mumbai Indians</td>\n",
       "      <td>Chennai Super Kings</td>\n",
       "      <td>Q de Kock</td>\n",
       "      <td>RG Sharma</td>\n",
       "      <td>L Ngidi</td>\n",
       "      <td>4</td>\n",
       "      <td>0</td>\n",
       "      <td>NaN</td>\n",
       "      <td>NaN</td>\n",
       "      <td>NaN</td>\n",
       "      <td>NaN</td>\n",
       "      <td>NaN</td>\n",
       "      <td>NaN</td>\n",
       "      <td>NaN</td>\n",
       "      <td>NaN</td>\n",
       "      <td>NaN</td>\n",
       "      <td>4</td>\n",
       "      <td>0</td>\n",
       "    </tr>\n",
       "  </tbody>\n",
       "</table>\n",
       "</div>"
      ],
      "text/plain": [
       "        match_id  season  start_date                        venue  innings  ball    batting_team         bowling_team    striker non_striker   bowler  runs_off_bat  extras  wides  noballs  byes  legbyes  penalty wicket_type player_dismissed  other_wicket_type  other_player_dismissed  total_runs  isOut\n",
       "199921  1254084   2021    2021-05-01  Arun Jaitley Stadium, Delhi  2        5.5   Mumbai Indians  Chennai Super Kings  Q de Kock  RG Sharma   L Ngidi  4             0      NaN    NaN      NaN   NaN      NaN       NaN         NaN             NaN                NaN                      4           0    "
      ]
     },
     "execution_count": 113,
     "metadata": {},
     "output_type": "execute_result"
    }
   ],
   "source": [
    "required_match_id = 1254084\n",
    "ipl_df[ipl_df.match_id == required_match_id].head(1)\n"
   ]
  },
  {
   "cell_type": "code",
   "execution_count": 114,
   "id": "51ffb099-f2b0-430f-90ff-29b340f6ef9b",
   "metadata": {},
   "outputs": [],
   "source": [
    "t1_outs = ipl_df[ipl_df.batting_team == t1].isOut.sum()\n",
    "t2_outs = ipl_df[ipl_df.batting_team == t2].isOut.sum()"
   ]
  },
  {
   "cell_type": "code",
   "execution_count": 115,
   "id": "fe991561-9629-49ad-b80b-c88a59144b10",
   "metadata": {},
   "outputs": [],
   "source": [
    "t1_outcomes = ipl_df[ipl_df.batting_team == t1].total_runs.value_counts()\n",
    "t2_outcomes = ipl_df[ipl_df.batting_team == t2].total_runs.value_counts()"
   ]
  },
  {
   "cell_type": "code",
   "execution_count": 116,
   "id": "cb884335-6151-4578-b380-7d0475eec766",
   "metadata": {},
   "outputs": [],
   "source": [
    "outcomes = [0, 1, 2, 3, 4, 6, 'w']"
   ]
  },
  {
   "cell_type": "code",
   "execution_count": 117,
   "id": "eb7be942-fdc4-41d5-b4d9-b497f18fffd1",
   "metadata": {},
   "outputs": [],
   "source": [
    "t1_outcomes_count = []\n",
    "for outcome in outcomes:\n",
    "    try:\n",
    "        if outcome != 'w':\n",
    "            t1_outcomes_count.append(t1_outcomes[outcome])\n",
    "        else:\n",
    "            t1_outcomes_count.append(t1_outs)\n",
    "    except:\n",
    "        t1_outcomes_count.append(0)\n",
    "        \n",
    "\n",
    "t2_outcomes_count = []\n",
    "for outcome in outcomes:\n",
    "    try:\n",
    "        if outcome != 'w':\n",
    "            t2_outcomes_count.append(t2_outcomes[outcome])\n",
    "        else:\n",
    "            t2_outcomes_count.append(t2_outs)\n",
    "    except:\n",
    "        t2_outcomes_count.append(0)"
   ]
  },
  {
   "cell_type": "code",
   "execution_count": 118,
   "id": "3ce87174-5144-4827-9408-63760e11922c",
   "metadata": {},
   "outputs": [
    {
     "name": "stdout",
     "output_type": "stream",
     "text": [
      "T1 team: [9974, 11336, 1721, 104, 3198, 1403, 1378]\n",
      "T2 team: [8661, 10515, 1706, 98, 2829, 1259, 1087]\n"
     ]
    }
   ],
   "source": [
    "t1_outcomes_count\n",
    "print(\"T1 team:\",t1_outcomes_count)\n",
    "t1_outcomes_count\n",
    "print(\"T2 team:\",t2_outcomes_count)\n"
   ]
  },
  {
   "cell_type": "code",
   "execution_count": 119,
   "id": "827c0a41-e0cd-4923-9d6a-132f8f263c06",
   "metadata": {},
   "outputs": [
    {
     "name": "stdout",
     "output_type": "stream",
     "text": [
      "Probability of T1: [0.3425843236930686, 0.3893659407845023, 0.05911245448924916, 0.003572164594353232, 0.10984406127636188, 0.04818987428728447, 0.047331180875180325]\n",
      "Probability of T2: [0.33114127317912445, 0.4020263811890652, 0.06522653412349455, 0.0037468935194035556, 0.10816287516727204, 0.04813611164213343, 0.041559931179506786]\n"
     ]
    }
   ],
   "source": [
    "#PROBABILITY COUNT\n",
    "t1_pb = [i/sum(t1_outcomes_count) for i in t1_outcomes_count]\n",
    "print(\"Probability of T1:\",t1_pb)\n",
    "\n",
    "t2_pb = [i/sum(t2_outcomes_count) for i in t2_outcomes_count]\n",
    "print(\"Probability of T2:\",t2_pb)"
   ]
  },
  {
   "cell_type": "code",
   "execution_count": 120,
   "id": "a6735296-710f-4121-b80e-3cd6841953ec",
   "metadata": {},
   "outputs": [],
   "source": [
    "#CUM_PROBABILITY\n",
    "t1_cum_pb = list(np.cumsum(t1_pb))\n",
    "t2_cum_pb = list(np.cumsum(t2_pb))"
   ]
  },
  {
   "cell_type": "code",
   "execution_count": 121,
   "id": "18823c24-39b8-4549-8cae-a306cf7ecb6b",
   "metadata": {
    "tags": []
   },
   "outputs": [],
   "source": [
    "# first innings\n",
    "i1p_0 = t1_cum_pb[0]\n",
    "i1p_1 = t1_cum_pb[1]\n",
    "i1p_2 = t1_cum_pb[2]\n",
    "i1p_3 = t1_cum_pb[3]\n",
    "i1p_4 = t1_cum_pb[4]\n",
    "i1p_6 = t1_cum_pb[5]\n",
    "i1p_w = 1\n",
    "\n",
    "pred_runs = 0\n",
    "pred_wks = 0\n",
    "\n",
    "for i in range(120):\n",
    "    r_value = np.random.random()\n",
    "\n",
    "    if r_value <= i1p_0:\n",
    "        pred_runs += 0\n",
    "    elif r_value <= i1p_1:\n",
    "        pred_runs += 1\n",
    "    elif r_value <= i1p_2:\n",
    "        pred_runs += 2\n",
    "    elif r_value <= i1p_3:\n",
    "        pred_runs += 3\n",
    "    elif r_value <= i1p_4:\n",
    "        pred_runs += 4\n",
    "    elif r_value <= i1p_6:\n",
    "        pred_runs += 6\n",
    "    else:\n",
    "        pred_runs += 0\n",
    "        pred_wks += 1\n",
    "        if pred_wks == 10:\n",
    "            break"
   ]
  },
  {
   "cell_type": "markdown",
   "id": "7fad9010-607f-44c8-9e77-b3eab37f043d",
   "metadata": {},
   "source": [
    "# FIRST INNINGS RUN PREDICTION"
   ]
  },
  {
   "cell_type": "code",
   "execution_count": 122,
   "id": "00ce8ea0-a9df-4b3e-a035-cc5e04247179",
   "metadata": {},
   "outputs": [
    {
     "data": {
      "text/plain": [
       "217"
      ]
     },
     "execution_count": 122,
     "metadata": {},
     "output_type": "execute_result"
    }
   ],
   "source": [
    "# first innings\n",
    "def innings_1_runs(curr_overs, curr_score, curr_wickets):\n",
    "    i1p_0 = t1_cum_pb[0]\n",
    "    i1p_1 = t1_cum_pb[1]\n",
    "    i1p_2 = t1_cum_pb[2]\n",
    "    i1p_3 = t1_cum_pb[3]\n",
    "    i1p_4 = t1_cum_pb[4]\n",
    "    i1p_6 = t1_cum_pb[5]\n",
    "    i1p_w = 1\n",
    "\n",
    "    # initialize runs, wickets\n",
    "    pred_runs = curr_score\n",
    "    pred_wks = curr_wickets\n",
    "    \n",
    "    # calculate leftover balls\n",
    "    over_ball = curr_overs\n",
    "    over_number = int(str(over_ball).split('.')[0])\n",
    "    ball_number = int(str(over_ball).split('.')[1])\n",
    "    \n",
    "    if ball_number >= 6:\n",
    "        ball_number = 6\n",
    "    current_balls = over_number*6 + ball_number \n",
    "    leftover_balls = 120 - current_balls\n",
    "\n",
    "    for i in range(leftover_balls):\n",
    "    \n",
    "        r_value = np.random.random()\n",
    "\n",
    "        if r_value <= i1p_0:\n",
    "            pred_runs += 0\n",
    "        elif r_value <= i1p_1:\n",
    "            pred_runs += 1\n",
    "        elif r_value <= i1p_2:\n",
    "            pred_runs += 2\n",
    "        elif r_value <= i1p_3:\n",
    "            pred_runs += 3\n",
    "        elif r_value <= i1p_4:\n",
    "            pred_runs += 4\n",
    "        elif r_value <= i1p_6:\n",
    "            pred_runs += 6\n",
    "        else:\n",
    "            pred_runs += 0\n",
    "            pred_wks += 1\n",
    "            if pred_wks == 10:\n",
    "                break\n",
    "\n",
    "    return pred_runs\n",
    "\n",
    "# innings_1_runs(curr_overs, curr_score, curr_wickets)\n",
    "innings_1_runs(13.4, 171, 4)\n"
   ]
  },
  {
   "cell_type": "markdown",
   "id": "fa7b120d-4129-42c8-a13d-175df4207d64",
   "metadata": {},
   "source": [
    "# SECOND INNINGS RUN PREDICTION"
   ]
  },
  {
   "cell_type": "code",
   "execution_count": 123,
   "id": "0bd1e8a0-9d97-4ba2-9236-603d01f1c669",
   "metadata": {},
   "outputs": [
    {
     "data": {
      "text/plain": [
       "188"
      ]
     },
     "execution_count": 123,
     "metadata": {},
     "output_type": "execute_result"
    }
   ],
   "source": [
    "# second innings\n",
    "def innings_2_runs(curr_overs, curr_score, curr_wickets, target):\n",
    "    i2p_0 = t2_cum_pb[0]\n",
    "    i2p_1 = t2_cum_pb[1]\n",
    "    i2p_2 = t2_cum_pb[2]\n",
    "    i2p_3 = t2_cum_pb[3]\n",
    "    i2p_4 = t2_cum_pb[4]\n",
    "    i2p_6 = t2_cum_pb[5]\n",
    "    i2p_w = 1\n",
    "\n",
    "    # initialize runs, wickets\n",
    "    pred_runs = curr_score\n",
    "    pred_wks = curr_wickets\n",
    "    \n",
    "    # calculate leftover balls\n",
    "    over_ball = curr_overs\n",
    "    over_number = int(str(over_ball).split('.')[0])\n",
    "    ball_number = int(str(over_ball).split('.')[1])\n",
    "    \n",
    "    if ball_number >= 6:\n",
    "        ball_number = 6\n",
    "    current_balls = over_number*6 + ball_number \n",
    "    leftover_balls = 120 - current_balls\n",
    "\n",
    "    for i in range(leftover_balls):\n",
    "    \n",
    "        r_value = np.random.random()\n",
    "\n",
    "        if r_value <= i2p_0:\n",
    "            pred_runs += 0\n",
    "        elif r_value <= i2p_1:\n",
    "            pred_runs += 1\n",
    "        elif r_value <= i2p_2:\n",
    "            pred_runs += 2\n",
    "        elif r_value <= i2p_3:\n",
    "            pred_runs += 3\n",
    "        elif r_value <= i2p_4:\n",
    "            pred_runs += 4\n",
    "        elif r_value <= i2p_6:\n",
    "            pred_runs += 6\n",
    "        else:\n",
    "            pred_runs += 0\n",
    "            pred_wks += 1\n",
    "            if pred_wks == 10:\n",
    "                break\n",
    "        \n",
    "        if pred_runs > target:\n",
    "            break\n",
    "\n",
    "    return pred_runs\n",
    "\n",
    "# innings_2_runs(curr_overs, curr_score, curr_wickets, target)\n",
    "innings_2_runs(10.2, 122, 2, 237)"
   ]
  },
  {
   "cell_type": "code",
   "execution_count": 124,
   "id": "8a908f08-cdfa-48d7-8f83-bd0c3859d927",
   "metadata": {},
   "outputs": [],
   "source": [
    "mdf = ipl_df[ipl_df.match_id == required_match_id]\n",
    "mdf.reset_index(inplace = True, drop = True)\n",
    "\n"
   ]
  },
  {
   "cell_type": "code",
   "execution_count": 125,
   "id": "c034f776-3078-4b99-a190-7e8eddc24e63",
   "metadata": {},
   "outputs": [],
   "source": [
    "df_ing1 = mdf[mdf.innings == 1]\n",
    "df_ing2 = mdf[mdf.innings == 2]"
   ]
  },
  {
   "cell_type": "code",
   "execution_count": 126,
   "id": "2bc16da0-02eb-4fdb-8d46-f1bd169191b4",
   "metadata": {},
   "outputs": [],
   "source": [
    "df_ing1 = df_ing1.sort_values('ball', ascending = True)\n",
    "df_ing2 = df_ing2.sort_values('ball', ascending = True)"
   ]
  },
  {
   "cell_type": "code",
   "execution_count": 127,
   "id": "a9de757f-a04e-4a8c-9546-79588a34f410",
   "metadata": {},
   "outputs": [],
   "source": [
    "df_ing1.reset_index(inplace = True, drop = True)\n",
    "df_ing2.reset_index(inplace = True, drop = True)"
   ]
  },
  {
   "cell_type": "markdown",
   "id": "92acae8e-62b5-4b6a-b620-e4db76388b96",
   "metadata": {},
   "source": [
    "# RUN PREDICTION: 1st INNINGS"
   ]
  },
  {
   "cell_type": "code",
   "execution_count": 128,
   "id": "a719d4a6-efea-4e5b-b82b-fc9abe306bf6",
   "metadata": {},
   "outputs": [],
   "source": [
    "curr_score = 0\n",
    "curr_wickets = 0\n",
    "curr_overs = 0.0\n",
    "\n",
    "ing1_runs_pred = []\n",
    "\n",
    "for i in range(len(df_ing1)):\n",
    "    curr_score += df_ing1.total_runs[i]\n",
    "    curr_overs = df_ing1.ball[i]\n",
    "    curr_wickets += df_ing1.isOut[i]\n",
    "    \n",
    "    prediction = innings_1_runs(curr_overs, curr_score, curr_wickets)\n",
    "#     print('score: ', curr_score, ' overs: ', curr_overs, ' wickets: ', curr_wickets, ' prediction: ', prediction)\n",
    "    ing1_runs_pred.append(prediction)"
   ]
  },
  {
   "cell_type": "code",
   "execution_count": 129,
   "id": "f395ec4c-83ec-4484-bba1-66e6c4bd8884",
   "metadata": {},
   "outputs": [],
   "source": [
    "ing1_actual_score = sum(df_ing1.total_runs)"
   ]
  },
  {
   "cell_type": "raw",
   "id": "5e6dbee5-80ca-4682-b142-944e6c2a30c4",
   "metadata": {},
   "source": [
    "RUN PREDICTION: 2nd INNINGS"
   ]
  },
  {
   "cell_type": "code",
   "execution_count": 131,
   "id": "fb7f6c07-13f3-4cc2-8bf6-074ff1ae4433",
   "metadata": {},
   "outputs": [],
   "source": [
    "curr_score = 0\n",
    "curr_wickets = 0\n",
    "curr_overs = 0.0\n",
    "target = ing1_actual_score\n",
    "\n",
    "ing2_runs_pred = []\n",
    "\n",
    "for i in range(len(df_ing2)):\n",
    "    curr_score += df_ing2.total_runs[i]\n",
    "    curr_overs = df_ing2.ball[i]\n",
    "    curr_wickets += df_ing2.isOut[i]\n",
    "    \n",
    "    prediction = innings_2_runs(curr_overs, curr_score, curr_wickets, target)\n",
    "#     print('target: ', target)\n",
    "#     print('score: ', curr_score, ' overs: ', curr_overs, ' wickets: ', curr_wickets, ' prediction: ', prediction)\n",
    "    ing2_runs_pred.append(prediction)\n",
    "    \n",
    "\n",
    "ing2_actual_score = sum(df_ing2.total_runs)"
   ]
  },
  {
   "cell_type": "code",
   "execution_count": 132,
   "id": "b4a34681-399a-4025-8699-97bf6ad77794",
   "metadata": {},
   "outputs": [
    {
     "data": {
      "image/png": "[encoded data removed]",
      "text/plain": [
       "<Figure size 1600x600 with 1 Axes>"
      ]
     },
     "metadata": {},
     "output_type": "display_data"
    }
   ],
   "source": [
    "plt.figure(figsize = (16, 6))\n",
    "plt.scatter([i for i in range(len(ing1_runs_pred))], ing1_runs_pred, alpha = 0.5, label = 'pred', color = 'red')\n",
    "plt.ylim(0, ing1_actual_score + 30)\n",
    "plt.axhline(ing1_actual_score, ls = '--', label = 'actual', color = 'green')\n",
    "plt.title('First Innings Runs - Prediction vs Actual (' + t2 + ': ' + str(ing1_actual_score) +  ')', fontsize = 16)\n",
    "plt.legend()\n",
    "plt.xlabel('Ball No')\n",
    "plt.ylabel('Runs')\n",
    "plt.show()"
   ]
  },
  {
   "cell_type": "code",
   "execution_count": 133,
   "id": "b6601d9a-2d82-453f-9208-a68c775b489c",
   "metadata": {},
   "outputs": [
    {
     "data": {
      "text/plain": [
       "47.1640625"
      ]
     },
     "execution_count": 133,
     "metadata": {},
     "output_type": "execute_result"
    }
   ],
   "source": [
    "#ERROR IN 1st INNINGS RUNS\n",
    "np.mean([abs(i - ing1_actual_score) for i in ing1_runs_pred])"
   ]
  },
  {
   "cell_type": "code",
   "execution_count": 134,
   "id": "12fdf1d7-7c69-49c0-92d6-efb0b1e6fc10",
   "metadata": {},
   "outputs": [],
   "source": [
    "ing2_actual_score = sum(df_ing2.total_runs)"
   ]
  },
  {
   "cell_type": "code",
   "execution_count": 135,
   "id": "972805e9-f1e6-4bf0-8ecc-a1c4feea07e5",
   "metadata": {},
   "outputs": [
    {
     "data": {
      "image/png": "[encoded data removed]",
      "text/plain": [
       "<Figure size 1600x600 with 1 Axes>"
      ]
     },
     "metadata": {},
     "output_type": "display_data"
    }
   ],
   "source": [
    "plt.figure(figsize = (16, 6))\n",
    "plt.scatter([i for i in range(len(ing2_runs_pred))], ing2_runs_pred, alpha = 0.5, label = 'pred', color = 'red')\n",
    "plt.ylim(0, ing2_actual_score + 30)\n",
    "plt.axhline(ing2_actual_score, ls = '--', label = 'actual', color = 'green')\n",
    "plt.title('Second Innings Runs - Prediction vs Actual (' + t1 + ': ' + str(ing2_actual_score) +  ')', fontsize = 16)\n",
    "plt.xlabel('Ball No')\n",
    "plt.ylabel('Runs')\n",
    "plt.legend()\n",
    "plt.show()"
   ]
  },
  {
   "cell_type": "code",
   "execution_count": 136,
   "id": "e33fdc67-6c77-4496-bd49-9ec0782db88d",
   "metadata": {},
   "outputs": [
    {
     "data": {
      "text/plain": [
       "47.359375"
      ]
     },
     "execution_count": 136,
     "metadata": {},
     "output_type": "execute_result"
    }
   ],
   "source": [
    "#ERROR IN 2nd INNINGS RUNS\n",
    "np.mean([abs(i - ing2_actual_score) for i in ing2_runs_pred])"
   ]
  },
  {
   "cell_type": "markdown",
   "id": "3558e504-1010-40ec-a6a2-7835be47af6a",
   "metadata": {},
   "source": [
    "# WIN PREDICTION 1st INNINGS"
   ]
  },
  {
   "cell_type": "code",
   "execution_count": 137,
   "id": "07fa7db9-7784-458a-8a3a-4d70d0344c4a",
   "metadata": {},
   "outputs": [],
   "source": [
    "# 1, 2 innings & predict win \n",
    "\n",
    "# for each ball make a prediction: 1st runs, 2nd runs, win/lose/tie\n",
    "\n",
    "# initialize win/tie/lose\n",
    "win_count = 0\n",
    "tie_count = 0\n",
    "lose_count = 0\n",
    "\n",
    "win_count_ls = []\n",
    "tie_count_ls = []\n",
    "lose_count_ls = []\n",
    "\n",
    "ing1_curr_score = 0\n",
    "ing1_curr_overs = 0\n",
    "ing1_curr_wickets = 0\n",
    "\n",
    "# each ball\n",
    "for i in range(len(df_ing1)):\n",
    "    \n",
    "    # 1st innings values\n",
    "    ing1_curr_score += df_ing1.total_runs[i]\n",
    "    ing1_curr_overs = df_ing1.ball[i]\n",
    "    ing1_curr_wickets += df_ing1.isOut[i]\n",
    "    \n",
    "    #2nd innings values\n",
    "    ing2_curr_score = 0\n",
    "    ing2_curr_wickets = 0\n",
    "    ing2_curr_overs = 0.0\n",
    "    \n",
    "    # make a prediction for 100 times & get win/lose/tie count(ex: 28% win)\n",
    "    for j in range(100):\n",
    "        \n",
    "        ing1_prediction = innings_1_runs(ing1_curr_overs, ing1_curr_score, ing1_curr_wickets)\n",
    "        target = ing1_prediction\n",
    "        \n",
    "        ing2_prediction = innings_2_runs(ing2_curr_overs, ing2_curr_score, ing2_curr_wickets, target)\n",
    "        \n",
    "#         print(ing1_prediction, ing2_prediction)\n",
    "        \n",
    "        # prediction w.r.t 2nd team\n",
    "        if ing2_prediction > target:\n",
    "            win_count += 1\n",
    "        elif ing2_prediction == target:\n",
    "            tie_count += 1\n",
    "        else:\n",
    "            lose_count += 1\n",
    "            \n",
    "    win_count_ls.append(win_count)\n",
    "    tie_count_ls.append(tie_count)\n",
    "    lose_count_ls.append(lose_count)\n",
    "    \n",
    "    win_count = 0\n",
    "    tie_count = 0\n",
    "    lose_count = 0"
   ]
  },
  {
   "cell_type": "markdown",
   "id": "3630bc0e-2fb9-4762-860a-8c86e6aee0f8",
   "metadata": {},
   "source": [
    "# WIN PREDICTION 2nd INNINGS"
   ]
  },
  {
   "cell_type": "code",
   "execution_count": 138,
   "id": "32e102c8-b15e-4ac5-afb7-91072d33caf2",
   "metadata": {},
   "outputs": [],
   "source": [
    "# each ball\n",
    "#2nd innings values\n",
    "ing2_curr_score = 0\n",
    "ing2_curr_wickets = 0\n",
    "ing2_curr_overs = 0.0\n",
    "\n",
    "for i in range(len(df_ing2)):\n",
    "    \n",
    "    # 1st innings values\n",
    "    target = ing1_actual_score\n",
    "    \n",
    "    #2nd innings values\n",
    "    ing2_curr_score += df_ing2.total_runs[i]\n",
    "    ing2_curr_wickets += df_ing2.isOut[i]\n",
    "    ing2_curr_overs = df_ing2.ball[i]\n",
    "    \n",
    "    # make a prediction for 100 times & get win/lose/tie count(ex: 28% win)\n",
    "    for j in range(100):\n",
    "        ing2_prediction = innings_2_runs(ing2_curr_overs, ing2_curr_score, ing2_curr_wickets, target)\n",
    "        \n",
    "#         print(target, ing2_prediction)\n",
    "        \n",
    "        # prediction w.r.t 2nd team\n",
    "        if ing2_prediction > target:\n",
    "            win_count += 1\n",
    "        elif ing2_prediction == target:\n",
    "            tie_count += 1\n",
    "        else:\n",
    "            lose_count += 1\n",
    "            \n",
    "    win_count_ls.append(win_count)\n",
    "    tie_count_ls.append(tie_count)\n",
    "    lose_count_ls.append(lose_count)\n",
    "    \n",
    "    win_count = 0\n",
    "    tie_count = 0\n",
    "    lose_count = 0"
   ]
  },
  {
   "cell_type": "markdown",
   "id": "3e731639-fbdb-4458-8fb6-f87361f25d53",
   "metadata": {},
   "source": [
    "# WIN PREDICTION CHART"
   ]
  },
  {
   "cell_type": "code",
   "execution_count": 139,
   "id": "c18e44b8-e0e0-40b5-bbe0-b64a27a90145",
   "metadata": {},
   "outputs": [
    {
     "data": {
      "image/png": "[encoded data removed]",
      "text/plain": [
       "<Figure size 2500x1000 with 1 Axes>"
      ]
     },
     "metadata": {},
     "output_type": "display_data"
    }
   ],
   "source": [
    "plt.figure(figsize = (25, 10))\n",
    "\n",
    "x1_values = [i for i in range(len(win_count_ls))]\n",
    "y1_values = win_count_ls\n",
    "\n",
    "x2_values = [i for i in range(len(tie_count_ls))]\n",
    "y2_values = tie_count_ls\n",
    "\n",
    "x3_values = [i for i in range(len(lose_count_ls))]\n",
    "y3_values = lose_count_ls\n",
    "\n",
    "for i in range(10, len(mdf), 20):\n",
    "    if i < len(mdf) - 10:\n",
    "        plt.axvspan(i, i+10, ymin = 0, ymax = 100, alpha = 0.05, color='grey')\n",
    "        \n",
    "plt.axhline(y = 75, ls = '--', alpha = 0.3, c = 'grey')\n",
    "plt.axhline(y = 50, ls = '--', alpha = 1, c = 'grey')\n",
    "plt.axhline(y = 25, ls = '--', alpha = 0.3, c = 'grey')\n",
    "\n",
    "plt.plot(x1_values, y1_values, color = 'orange', label = t2)\n",
    "plt.plot(x2_values, y2_values, color = 'grey', label = 'Tie Value')\n",
    "plt.plot(x3_values, y3_values, color = 'blue', label = t1)\n",
    "\n",
    "plt.ylim(0, 100)\n",
    "plt.yticks([0, 25, 50, 75, 100])\n",
    "\n",
    "\n",
    "# add confidence interval\n",
    "# ci = 3\n",
    "# plt.fill_between(x1_values, np.array(y1_values) - ci, np.array(y1_values) + ci, color = 'orange', alpha = 0.2 )\n",
    "# plt.fill_between(x2_values, np.array(y2_values) - ci, np.array(y2_values) + ci, color = 'grey', alpha = 0.2 )\n",
    "# plt.fill_between(x3_values, np.array(y3_values) - ci, np.array(y3_values) + ci, color = 'blue', alpha = 0.2 )\n",
    "\n",
    "plt.title('Win Percentage Chart: ' + t1 + ' vs ' + t2, fontsize = 20)\n",
    "plt.xlabel('Ball No')\n",
    "plt.ylabel('Win %')\n",
    "plt.legend()\n",
    "plt.show()"
   ]
  },
  {
   "cell_type": "code",
   "execution_count": 140,
   "id": "895d9290-2e3d-4a95-b075-942fd12e7db7",
   "metadata": {},
   "outputs": [
    {
     "ename": "SyntaxError",
     "evalue": "invalid syntax (213206980.py, line 1)",
     "output_type": "error",
     "traceback": [
      "\u001b[1;36m  Cell \u001b[1;32mIn[140], line 1\u001b[1;36m\u001b[0m\n\u001b[1;33m    Probability of T1: [0.3425843236930686, 0.3893659407845023, 0.05911245448924916, 0.003572164594353232, 0.10984406127636188, 0.04818987428728447, 0.047331180875180325]\u001b[0m\n\u001b[1;37m                ^\u001b[0m\n\u001b[1;31mSyntaxError\u001b[0m\u001b[1;31m:\u001b[0m invalid syntax\n"
     ]
    }
   ],
   "source": [
    "Probability of T1: [0.3425843236930686, 0.3893659407845023, 0.05911245448924916, 0.003572164594353232, 0.10984406127636188, 0.04818987428728447, 0.047331180875180325]\n",
    "Probability of T2: [0.33114127317912445, 0.4020263811890652, 0.06522653412349455, 0.0037468935194035556, 0.10816287516727204, 0.04813611164213343, 0.041559931179506786]"
   ]
  },
  {
   "cell_type": "code",
   "execution_count": 141,
   "id": "915510ed-61ff-46e4-8434-d7c9c4e188c4",
   "metadata": {},
   "outputs": [],
   "source": [
    "def get_pbvalues(teamName):\n",
    "  \n",
    "    if teamName == 'CSK':\n",
    "        p_0 = 0.34258\n",
    "        p_1 = 0.34258 + 0.38936\n",
    "        p_2 = 0.34258 + 0.38936 + 0.059112\n",
    "        p_3 = 0.34258 + 0.38936 + 0.059112 + 0.00357\n",
    "        p_4 = 0.34258 + 0.38936 + 0.059112 + 0.00357 + 0.10984\n",
    "        p_6 = 0.34258 + 0.38936 + 0.059112 + 0.00357 + 0.10984 + 0.04818\n",
    "        p_w = 1\n",
    "    \n",
    "    elif teamName == 'MI':\n",
    "        p_0 = 0.33114\n",
    "        p_1 = 0.33114 + 0.40202\n",
    "        p_2 = 0.33114 + 0.40202 + 0.06522\n",
    "        p_3 = 0.33114 + 0.40202 + 0.06522 + 0.00374\n",
    "        p_4 = 0.33114 + 0.40202 + 0.06522 + 0.00374 + 0.10816\n",
    "        p_6 = 0.33114 + 0.40202 + 0.06522 + 0.00374 + 0.10816 + 0.04813\n",
    "        p_w = 1\n",
    "\n",
    "    return p_0, p_1, p_2, p_3, p_4, p_6, p_w"
   ]
  },
  {
   "cell_type": "markdown",
   "id": "0f5b1071-4538-4aca-890c-7d431256bdec",
   "metadata": {},
   "source": [
    "# RUNS PREDICTION MODEL"
   ]
  },
  {
   "cell_type": "code",
   "execution_count": 142,
   "id": "96bf0097-0a04-4351-896a-f6c0186a0517",
   "metadata": {},
   "outputs": [],
   "source": [
    "def predict_runs(target, current_score, current_wickets, current_overs):\n",
    "  \n",
    "    # pb values of both teams\n",
    "    i1p_0, i1p_1, i1p_2, i1p_3, i1p_4, i1p_6, i1p_w = get_pbvalues('CSK')\n",
    "    i2p_0, i2p_1, i2p_2, i2p_3, i2p_4, i2p_6, i2p_w = get_pbvalues('MI')\n",
    "\n",
    "    pred_runs = current_score\n",
    "    pred_wks = current_wickets\n",
    "    leftover_balls = 120 - current_overs*6\n",
    "\n",
    "    for i in range(leftover_balls):\n",
    "        r_value = np.random.random()\n",
    "\n",
    "        if r_value <= i2p_0:\n",
    "            pred_runs += 0\n",
    "        elif r_value <= i2p_1:\n",
    "            pred_runs += 1\n",
    "        elif r_value <= i2p_2:\n",
    "            pred_runs += 2\n",
    "        elif r_value <= i2p_3:\n",
    "            pred_runs += 3\n",
    "        elif r_value <= i2p_4:\n",
    "            pred_runs += 4\n",
    "        elif r_value <= i2p_6:\n",
    "            pred_runs += 6\n",
    "        else:\n",
    "            pred_runs += 0\n",
    "            pred_wks += 1\n",
    "            if pred_wks == 10:\n",
    "                break\n",
    "        if pred_runs > target:\n",
    "            break\n",
    "        # print('pred_runs: ', pred_runs)\n",
    "        # print('pred_wks: ', pred_wks)\n",
    "    \n",
    "    return pred_runs"
   ]
  },
  {
   "cell_type": "code",
   "execution_count": 143,
   "id": "be971c5c-be0a-40d9-a35a-8c1dca76c8b1",
   "metadata": {},
   "outputs": [
    {
     "data": {
      "text/plain": [
       "128"
      ]
     },
     "execution_count": 143,
     "metadata": {},
     "output_type": "execute_result"
    }
   ],
   "source": [
    "# predict_runs(target, current_score, current_wickets, current_overs)\n",
    "predict_runs(219, 81, 3, 10)"
   ]
  },
  {
   "cell_type": "code",
   "execution_count": 144,
   "id": "78e87b3a-739c-421a-b193-9e26f5e46e82",
   "metadata": {},
   "outputs": [],
   "source": [
    "#WINNER FUNCTION\n",
    "\n",
    "def get_win(pred_runs, target):\n",
    "    if pred_runs > target:\n",
    "        return 'win'\n",
    "    elif pred_runs == target:\n",
    "        return 'tie'\n",
    "    else:\n",
    "        return 'lose'\n"
   ]
  },
  {
   "cell_type": "code",
   "execution_count": 145,
   "id": "a5619d23-412e-4ffe-95fd-d2b400918ef4",
   "metadata": {},
   "outputs": [
    {
     "data": {
      "text/plain": [
       "(0, 0, 100)"
      ]
     },
     "execution_count": 145,
     "metadata": {},
     "output_type": "execute_result"
    }
   ],
   "source": [
    "# runs, wickets, overs, \n",
    "# win - 1st ing score\n",
    "\n",
    "# CSK - 218/6\n",
    "\n",
    "target = 219\n",
    "\n",
    "current_score = 81\n",
    "current_wickets = 3\n",
    "current_overs = 10\n",
    "\n",
    "iter_count = 100\n",
    "\n",
    "runs_ls = []\n",
    "results_ls = []\n",
    "\n",
    "win_count = 0\n",
    "tie_count = 0\n",
    "lose_count = 0\n",
    "\n",
    "for i in range(iter_count):\n",
    "    pred_runs = predict_runs(target, current_score, current_wickets, current_overs)\n",
    "    runs_ls.append(pred_runs)\n",
    "    result_pred = get_win(pred_runs, target)\n",
    "    results_ls.append(result_pred)\n",
    "\n",
    "    if result_pred == 'win':\n",
    "        win_count += 1\n",
    "    elif result_pred == 'tie':\n",
    "        tie_count += 1\n",
    "    else:\n",
    "        lose_count +=1\n",
    "        \n",
    "win_count, tie_count, lose_count"
   ]
  },
  {
   "cell_type": "markdown",
   "id": "18302b9e-ede0-438e-93ea-c039d3f2106b",
   "metadata": {},
   "source": [
    "# FIND OUT RUNS AT REQUIRED STAGE"
   ]
  },
  {
   "cell_type": "code",
   "execution_count": 146,
   "id": "0ed3ebd0-bcdb-4ba9-a11e-81f95f05233b",
   "metadata": {},
   "outputs": [
    {
     "data": {
      "text/plain": [
       "144"
      ]
     },
     "execution_count": 146,
     "metadata": {},
     "output_type": "execute_result"
    }
   ],
   "source": [
    "# find out runs:\n",
    "def find_runs(current_score, target, current_wickets, at_overs):\n",
    "    runs_ls = []\n",
    "    results_ls = []\n",
    "\n",
    "    req_runs = []\n",
    "    win_ls = []\n",
    "\n",
    "    for i in range(current_score, target + 1):\n",
    "        win_count = 0\n",
    "        tie_count = 0\n",
    "        lose_count = 0\n",
    "\n",
    "        for j in range(100):\n",
    "            pred_runs = predict_runs(target, i, current_wickets, at_overs)\n",
    "            runs_ls.append(pred_runs)\n",
    "            result_pred = get_win(pred_runs, target)\n",
    "            results_ls.append(result_pred)\n",
    "\n",
    "            if result_pred == 'win':\n",
    "                win_count += 1\n",
    "            elif result_pred == 'tie':\n",
    "                tie_count += 1\n",
    "            else:\n",
    "                lose_count +=1\n",
    "\n",
    "            win_ls.append(win_count)\n",
    "            req_runs.append(i)\n",
    "            # print('runs: ', i, ' win%: ', win_count)\n",
    "\n",
    "    required_runs = current_score\n",
    "    for i in range(len(req_runs)):\n",
    "        if win_ls[i] >= 50:\n",
    "            required_runs = req_runs[i]\n",
    "            # print('Runs to be: ', req_runs[i])\n",
    "            break\n",
    "\n",
    "    return required_runs\n",
    "\n",
    "# find_runs(current_score, target, current_wickets, at_overs)\n",
    "find_runs(81, 219, 3, 10)"
   ]
  },
  {
   "cell_type": "markdown",
   "id": "ac3d8375-e79d-4afa-8075-0fae1730ad46",
   "metadata": {},
   "source": [
    "# FIND OUT WICKETS AFFORDED TO LOSE"
   ]
  },
  {
   "cell_type": "code",
   "execution_count": 147,
   "id": "49daf52e-ff61-4a1d-a3f8-b485b5549e54",
   "metadata": {},
   "outputs": [
    {
     "data": {
      "text/plain": [
       "3"
      ]
     },
     "execution_count": 147,
     "metadata": {},
     "output_type": "execute_result"
    }
   ],
   "source": [
    "def find_wickets(current_score, target, current_wickets, at_overs):\n",
    "\n",
    "#     find_runs(current_score, target, current_wickets, at_overs)\n",
    "    req_runs = find_runs(current_score, target, current_wickets, at_overs)\n",
    "\n",
    "    runs_ls = []\n",
    "    results_ls = []\n",
    "\n",
    "    req_wks = []\n",
    "    win_ls = []\n",
    "\n",
    "    for i in range(current_wickets, 10):\n",
    "        win_count = 0\n",
    "        tie_count = 0\n",
    "        lose_count = 0\n",
    "\n",
    "        for j in range(100):\n",
    "#             pred_runs = predict_runs(target, req_runs, i, at_overs)\n",
    "            pred_runs = predict_runs(target, current_score, i, at_overs)\n",
    "            runs_ls.append(pred_runs)\n",
    "            result_pred = get_win(pred_runs, target)\n",
    "            results_ls.append(result_pred)\n",
    "\n",
    "            if result_pred == 'win':\n",
    "                win_count += 1\n",
    "            elif result_pred == 'tie':\n",
    "                tie_count += 1\n",
    "            else:\n",
    "                lose_count +=1\n",
    "\n",
    "        win_ls.append(win_count)\n",
    "        req_wks.append(i)\n",
    "#         print('wickets: ', i, ' win%: ', win_count)\n",
    "\n",
    "    req_wicket_value = current_wickets\n",
    "    \n",
    "    for i in range(len(req_wks)):\n",
    "        if (win_ls[i] < 45)  :\n",
    "            req_wicket_value = req_wks[i]\n",
    "            break\n",
    "\n",
    "    return req_wicket_value\n",
    "\n",
    "# wickets they can afford to lose:\n",
    "\n",
    "# find_wickets(current_score, target, current_wickets, at_overs)\n",
    "find_wickets(81, 219, 3, 10)"
   ]
  },
  {
   "cell_type": "markdown",
   "id": "a8c0a315-9157-4e1e-9d63-a3dcbfd9ec3f",
   "metadata": {},
   "source": [
    "# INTERACTIVE CHART"
   ]
  },
  {
   "cell_type": "code",
   "execution_count": 163,
   "id": "d0ba3ab7-0ba4-4954-b561-9ff92cbcfab9",
   "metadata": {},
   "outputs": [
    {
     "name": "stdout",
     "output_type": "stream",
     "text": [
      "current_score = MI: 81/3 (10 overs)\n",
      "\n"
     ]
    },
    {
     "data": {
      "application/vnd.jupyter.widget-view+json": {
       "model_id": "c6330630e9294cb3b97b1aab8feb4d69",
       "version_major": 2,
       "version_minor": 0
      },
      "text/plain": [
       "interactive(children=(IntSlider(value=1, description='current_wks', max=10, min=1), IntSlider(value=10, descri…"
      ]
     },
     "metadata": {},
     "output_type": "display_data"
    }
   ],
   "source": [
    "%matplotlib inline\n",
    "from ipywidgets import interactive\n",
    "import ipywidgets as widgets\n",
    "import matplotlib.pyplot as plt\n",
    "import numpy as np\n",
    "\n",
    "def find_runs_wickets(current_wks, at_overs, target_score):\n",
    "    plt.figure(figsize = (16, 6))\n",
    "    # x = np.linspace(-10, 10, num=1000)\n",
    "    x = np.array(list(range(21)))\n",
    "    req_value = find_runs(138, target_score, current_wks, at_overs)\n",
    "    req_wk_value = find_wickets(138, target_score, current_wks, at_overs)\n",
    "\n",
    "    if at_overs == 10:\n",
    "        req_value = 138\n",
    "        req_wk_value = 4\n",
    "\n",
    "    \n",
    "    # print(req_value)\n",
    "    y = np.array([req_value for i in range(21)])\n",
    "\n",
    "    # plt.plot(x, current_overs * x + target_score)\n",
    "    # plt.plot(x, y)\n",
    "    plt.scatter(at_overs, req_value, s = 1200, color = 'red')\n",
    "    plt.axhline(target_score, ls = '--', color = 'blue')\n",
    "    plt.text( 1, target_score + 10, 'Target Score :' + str(target_score) , color = 'darkblue', fontsize = 13)\n",
    "    plt.text( at_overs, req_value, str(req_value) + '/' + str(req_wk_value), color = 'white', fontsize = 12,  horizontalalignment='center', verticalalignment='center')\n",
    "    plt.text(at_overs, req_value - 30, 'MI has to be at ' + str(req_value) + '/' +  str(req_wk_value) + ' after ' + str(at_overs) + ' ov', horizontalalignment='center')\n",
    "    plt.ylim(50, target_score + 50)\n",
    "    plt.xticks(x)\n",
    "    plt.title('Where should MI be?', fontsize = 20)\n",
    "    plt.xlabel('Overs')\n",
    "    plt.ylabel('Score')\n",
    "    plt.show()\n",
    "\n",
    "x=widgets.IntSlider(min=-10, max=30, step=1, value=10)\n",
    "\n",
    "#find_wickets(current_score, target, current_wickets, at_overs)\n",
    "#find_wickets(81, 219, 3, 10)\n",
    "\n",
    "print('current_score = MI: 81/3 (10 overs)')\n",
    "print('')\n",
    "\n",
    "interactive_plot = interactive(find_runs_wickets, current_wks = widgets.IntSlider(min=1, max=10, step=1, value=1),  at_overs=widgets.IntSlider(min=10, max=20, step=1, value=10), target_score = widgets.IntSlider(min=0, max=250, step=1, value=219))\n",
    "output = interactive_plot.children[-1]\n",
    "output.layout.height = '450px'\n",
    "interactive_plot"
   ]
  },
  {
   "cell_type": "code",
   "execution_count": 161,
   "id": "06acd052-b1f9-4a08-b5fc-b82cf7dbe49e",
   "metadata": {},
   "outputs": [
    {
     "data": {
      "application/vnd.jupyter.widget-view+json": {
       "model_id": "1936c5ee7e644c0e82934dc0badab211",
       "version_major": 2,
       "version_minor": 0
      },
      "text/plain": [
       "interactive(children=(IntSlider(value=81, description='current_score', max=250), IntSlider(value=3, descriptio…"
      ]
     },
     "metadata": {},
     "output_type": "display_data"
    }
   ],
   "source": [
    "import numpy as np\n",
    "import matplotlib.pyplot as plt\n",
    "from ipywidgets import interactive\n",
    "import ipywidgets as widgets\n",
    "\n",
    "def predict_runs(target, current_score, current_wickets, at_overs):\n",
    "    # Placeholder for actual run prediction logic\n",
    "    # Here, we simulate predicted runs as a random value between current_score and target\n",
    "    return np.random.randint(current_score, target + 1)\n",
    "\n",
    "def get_win(predicted_runs, target):\n",
    "    # Determine win, lose, or tie based on predicted runs\n",
    "    if predicted_runs > target:\n",
    "        return 'win'\n",
    "    elif predicted_runs == target:\n",
    "        return 'tie'\n",
    "    else:\n",
    "        return 'lose'\n",
    "\n",
    "def find_runs(current_score, target, current_wickets, at_overs):\n",
    "    runs_ls = []\n",
    "    results_ls = []\n",
    "\n",
    "    req_runs = []\n",
    "    win_ls = []\n",
    "\n",
    "    for i in range(current_score, target + 1):\n",
    "        win_count = 0\n",
    "\n",
    "        for _ in range(100):\n",
    "            pred_runs = predict_runs(target, i, current_wickets, at_overs)\n",
    "            runs_ls.append(pred_runs)\n",
    "            result_pred = get_win(pred_runs, target)\n",
    "            results_ls.append(result_pred)\n",
    "\n",
    "            if result_pred == 'win':\n",
    "                win_count += 1\n",
    "\n",
    "            req_runs.append(i)\n",
    "            win_ls.append(win_count)\n",
    "\n",
    "    required_runs = current_score\n",
    "    for i in range(len(req_runs)):\n",
    "        if win_ls[i] >= 50:\n",
    "            required_runs = req_runs[i]\n",
    "            break\n",
    "\n",
    "    return required_runs\n",
    "\n",
    "def find_wickets(current_score, target, current_wickets, at_overs):\n",
    "    # This function should calculate the required wickets based on a similar logic\n",
    "    wickets_ls = []\n",
    "\n",
    "    for i in range(current_wickets, 11):\n",
    "        win_count = 0\n",
    "\n",
    "        for _ in range(100):\n",
    "            pred_runs = predict_runs(target, current_score, i, at_overs)\n",
    "            result_pred = get_win(pred_runs, target)\n",
    "\n",
    "            if result_pred == 'win':\n",
    "                win_count += 1\n",
    "\n",
    "            if win_count >= 50:\n",
    "                wickets_ls.append(i)\n",
    "                break\n",
    "\n",
    "    if wickets_ls:\n",
    "        return wickets_ls[0]\n",
    "    else:\n",
    "        return current_wickets\n",
    "\n",
    "def find_runs_wickets(current_score, current_wks, at_overs, target_score):\n",
    "    plt.figure(figsize=(16, 8))\n",
    "    \n",
    "    x = np.arange(21)\n",
    "    req_value = find_runs(current_score, target_score, current_wks, at_overs)\n",
    "    req_wk_value = find_wickets(current_score, target_score, current_wks, at_overs)\n",
    "\n",
    "    y = np.array([req_value for _ in range(21)])\n",
    "\n",
    "    plt.scatter(at_overs, req_value, s=1200, color='red')\n",
    "    plt.axhline(target_score, ls='--', color='blue')\n",
    "    plt.text(1, target_score + 10, 'Target Score: ' + str(target_score), color='darkblue', fontsize=13)\n",
    "    plt.text(at_overs, req_value, f'{req_value}/{req_wk_value}', color='white', fontsize=12, ha='center', va='center')\n",
    "    plt.text(at_overs, req_value - 30, f'MI has to be at {req_value}/{req_wk_value} after {at_overs} overs', ha='center')\n",
    "\n",
    "    # Adding information for 5, 10, and 15 overs\n",
    "    for overs in [5, 10, 15]:\n",
    "        req_val = find_runs(current_score, target_score, current_wks, overs)\n",
    "        req_wk_val = find_wickets(current_score, target_score, current_wks, overs)\n",
    "        plt.scatter(overs, req_val, s=600, color='green')\n",
    "        plt.text(overs, req_val + 5, f'{req_val}/{req_wk_val}', color='black', fontsize=10, ha='center')\n",
    "\n",
    "    plt.ylim(50, target_score + 50)\n",
    "    plt.xticks(x)\n",
    "    plt.title('Where should MI be?', fontsize=20)\n",
    "    plt.xlabel('Overs')\n",
    "    plt.ylabel('Score')\n",
    "    plt.grid(True)\n",
    "    plt.show()\n",
    "\n",
    "interactive_plot = interactive(find_runs_wickets, current_score=widgets.IntSlider(min=0, max=250, step=1, value=81), current_wks=widgets.IntSlider(min=1, max=10, step=1, value=3), at_overs=widgets.IntSlider(min=10, max=20, step=1, value=20), target_score=widgets.IntSlider(min=0, max=250, step=1, value=219))\n",
    "\n",
    "output = interactive_plot.children[-1]\n",
    "output.layout.height = '450px'\n",
    "interactive_plot\n"
   ]
  },
  {
   "cell_type": "code",
   "execution_count": null,
   "id": "8a6c077d-66ed-496b-9429-796717fd2313",
   "metadata": {},
   "outputs": [],
   "source": []
  },
  {
   "cell_type": "code",
   "execution_count": null,
   "id": "79d1aac6-dc24-4e23-a3ae-f38ccab7cb90",
   "metadata": {},
   "outputs": [],
   "source": []
  },
  {
   "cell_type": "code",
   "execution_count": null,
   "id": "7b718c27-c287-4296-81ba-7eef13074f3f",
   "metadata": {},
   "outputs": [],
   "source": []
  }
 ],
 "metadata": {
  "kernelspec": {
   "display_name": "Python 3 (ipykernel)",
   "language": "python",
   "name": "python3"
  },
  "language_info": {
   "codemirror_mode": {
    "name": "ipython",
    "version": 3
   },
   "file_extension": ".py",
   "mimetype": "text/x-python",
   "name": "python",
   "nbconvert_exporter": "python",
   "pygments_lexer": "ipython3",
   "version": "3.9.12"
  },
  "toc-autonumbering": true,
  "toc-showmarkdowntxt": true
 },
 "nbformat": 4,
 "nbformat_minor": 5
}
